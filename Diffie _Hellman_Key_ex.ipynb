{
 "cells": [
  {
   "cell_type": "code",
   "execution_count": 8,
   "metadata": {
    "collapsed": true,
    "pycharm": {
     "is_executing": false
    }
   },
   "outputs": [
    {
     "name": "stdout",
     "text": [
      "Public Information\n",
      "mod :  13\n",
      "base generator :  6\n",
      "<------------------------------------\n",
      "User A Pub key :  2\n"
     ],
     "output_type": "stream"
    }
   ],
   "source": [
    "# User A and User B has to agree upon \n",
    "# 1)shared prime module (n)\n",
    "# 2)base generator (g)\n",
    "\n",
    "# prime module(n) = 13\n",
    "# base generator(g) = 6\n",
    "\n",
    "# Cal User A Public key\n",
    "# User A picks pvt key, a = 5\n",
    "# User A calculates pub key g pow of a . mod n\n",
    "# pow(g, UserApvtkey, mod n)\n",
    "\n",
    "# Calc User B pvt Key\n",
    "# User B picks pvt key, b = 4\n",
    "# User B calculates Pub key g pow of b . mod n\n",
    "# pow(g, UseBpvtkey, mod n)\n",
    "\n",
    "\n",
    "mod = 13\n",
    "g = 6\n",
    "\n",
    "print(\"Public Information\");\n",
    "print(\"mod : \",mod);\n",
    "print(\"base generator : \",g);\n",
    "print(\"<------------------------------------\");\n",
    "\n",
    "# CALCULATING USER A PUB KEY\n",
    "userA_pvt_key = 5\n",
    "userA_pub_key = pow(g, userA_pvt_key, mod)\n",
    "print(\"User A Pub key : \", userA_pub_key );"
   ]
  },
  {
   "cell_type": "code",
   "execution_count": 5,
   "outputs": [
    {
     "name": "stdout",
     "text": [
      "User B Public key : 9\n"
     ],
     "output_type": "stream"
    }
   ],
   "source": [
    "# Calculating User B pub key\n",
    "userB_pvt_key = 4\n",
    "userB_pub_key = pow(g,userB_pvt_key, mod)\n",
    "print(\"User B Public key :\",userB_pub_key);\n",
    "\n"
   ],
   "metadata": {
    "collapsed": false,
    "pycharm": {
     "name": "#%%\n",
     "is_executing": false
    }
   }
  },
  {
   "cell_type": "code",
   "execution_count": 9,
   "outputs": [
    {
     "name": "stdout",
     "text": [
      "User A shared key : \n",
      " 3\n"
     ],
     "output_type": "stream"
    }
   ],
   "source": [
    "# User A calculates shared key (User B sends Pub key to User A)\n",
    "\n",
    "userA_shared_key = pow(userB_pub_key,userA_pvt_key,mod)\n",
    "print(\"User A shared key : \\n\",userA_shared_key )\n",
    "\n"
   ],
   "metadata": {
    "collapsed": false,
    "pycharm": {
     "name": "#%%\n",
     "is_executing": false
    }
   }
  },
  {
   "cell_type": "code",
   "execution_count": 10,
   "outputs": [
    {
     "name": "stdout",
     "text": [
      "User B shared Key \n",
      ": 3\n"
     ],
     "output_type": "stream"
    }
   ],
   "source": [
    "# User B calculates shared key (User A sends Pub key to User B)\n",
    "\n",
    "userB_shared_key = pow(userA_pub_key,userB_pvt_key,mod)\n",
    "print(\"User B shared Key \\n:\", userB_shared_key);\n"
   ],
   "metadata": {
    "collapsed": false,
    "pycharm": {
     "name": "#%%\n",
     "is_executing": false
    }
   }
  }
 ],
 "metadata": {
  "kernelspec": {
   "display_name": "Python 3",
   "language": "python",
   "name": "python3"
  },
  "language_info": {
   "codemirror_mode": {
    "name": "ipython",
    "version": 2
   },
   "file_extension": ".py",
   "mimetype": "text/x-python",
   "name": "python",
   "nbconvert_exporter": "python",
   "pygments_lexer": "ipython2",
   "version": "2.7.6"
  },
  "pycharm": {
   "stem_cell": {
    "cell_type": "raw",
    "source": [],
    "metadata": {
     "collapsed": false
    }
   }
  }
 },
 "nbformat": 4,
 "nbformat_minor": 0
}