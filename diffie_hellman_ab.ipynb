{
 "cells": [
  {
   "cell_type": "code",
   "execution_count": 35,
   "metadata": {
    "collapsed": true,
    "pycharm": {
     "is_executing": false,
     "name": "#%%\n"
    }
   },
   "outputs": [
    {
     "name": "stdout",
     "text": [
      "User A pub key : \n",
      "  30166875597384493853935751135870804036674205572283560992527298700873023820396657723343149024900907715036643057948374718752626390818081603489786038565428016174617541292559262293922925527521845024988486196934785839861859111092940274029150840031359149095731518761646207905021087041025218921862450890714052302488\n",
      "User B Public key : \n",
      " 24941944590801780091897679636789723787304739691095431834853879840459158751079959244735041586921953867940081307530468301529536697531192143021687432885895250062873527759469619372660863808734717507782589862649548472194200384199627422273500204469706142234528673839962415720978843560758335360412758161294793367056\n"
     ],
     "output_type": "stream"
    }
   ],
   "source": [
    "import random\n",
    "\n",
    "# mod = 13\n",
    "mod = random.getrandbits(1024);\n",
    "# as long as we increase the mod, computation will increase \n",
    "# we can keep the mod as 13,14,15 for simplest computation\n",
    "g = 6\n",
    "userA_pvt_key = random.getrandbits(1024)\n",
    "userA_pub_key = pow(g,userA_pvt_key,mod)\n",
    "print(\"User A pub key : \\n \", userA_pub_key);\n",
    "\n",
    "userB_pvt_key = random.getrandbits(1024)\n",
    "userB_pub_key = pow(g, userB_pvt_key, mod);\n",
    "print(\"User B Public key : \\n\",userB_pub_key)"
   ]
  },
  {
   "cell_type": "code",
   "execution_count": 36,
   "outputs": [
    {
     "name": "stdout",
     "text": [
      "shared key of User A: \n",
      " 29717009537741685247061599951560010680716598271815230612695398416243336525009500383372639374370576523340941036703126666643924391532588996233440142050676742063519893007402362677944728559808171830831225720117133350511696897244799312600176631654427060109645242282546671878341078893967745495216541245304523971136\n",
      "shared key of User B: \n",
      " 29717009537741685247061599951560010680716598271815230612695398416243336525009500383372639374370576523340941036703126666643924391532588996233440142050676742063519893007402362677944728559808171830831225720117133350511696897244799312600176631654427060109645242282546671878341078893967745495216541245304523971136\n"
     ],
     "output_type": "stream"
    }
   ],
   "source": [
    "# calculating shared \n",
    "\n",
    "userA_shared_key = pow(userB_pub_key,userA_pvt_key,mod)\n",
    "print(\"shared key of User A: \\n\",userA_shared_key);\n",
    "userB_shared_key = pow(userA_pub_key,userB_pvt_key,mod);\n",
    "print(\"shared key of User B: \\n\", userB_shared_key);\n",
    "\n",
    "\n"
   ],
   "metadata": {
    "collapsed": false,
    "pycharm": {
     "name": "#%%\n",
     "is_executing": false
    }
   }
  },
  {
   "cell_type": "code",
   "execution_count": 41,
   "outputs": [
    {
     "name": "stdout",
     "text": [
      "\n",
      " --------------------------------- \n",
      "\n",
      "Encrypyted Cipher text : \n",
      " b'\\xc2\\xcdHjU\\x0e\\xe7\\xd7\\x04\\xb81[\\xab\\x1dO\\xba\\x8b\\xbcB\\xa6\\xb3m\\xee\\xa9\\xaaa\\x86\\xdf\\xff\\x8cDr\\x1fd\\xd6=\\xb7\\xd2N\\'`\\x14>\\x8c\\x8eD)\\x93\\'\\xd2\\x1b\\x00\\xec\\x07f6\\xeb\\x19\\xdaj1\\x06\\x7f\\xc0K\\xcd\\xcd\\xe8\\xfag\\x18\\xad2*\\xb7\\xe32\\x01\\xf3\\xa32\\x85\\xaeY\\x0b\\xfb-\\t,\\xb9g\\xf2o\\xbdK\\xcf\\xf1\\xc2ae4d\\xd5S\\\\\\xe0\\xe4\\xa7:!\\xcd\\xe2M0\\xac\\xe6\\xb4\\xa2\\xe6\\x0c\\x8aw\\xe2`\\x04\\xc6\\xad\\xf1q\\x06gO\\xed\\x89U\\xd3\\xb7}\\xed\\xccs\\xd7\\xc5\\x18\\xb7\\xb54bS\\xea\\xd7\\xc89]1NC\\xc2x\\xec,\\x08\\n\\x86\\xe0\\xee\\xd8\\x9c\\xe8\"\\xb8\\x18\\xaee\\x01\\xe4\\xf7\\xccs>9\\x86\\x86\\xa7\\x88\\x9c6\\x83\\x0b\\xe7\\xef!\\x8c\\x91\\x93\\n\\xd5\\x91+{b\\x19\\x8f\\n\\xa0\\xdf\\xe6;\\xc2=\\xb7~vE\\xa9WiD\\x93[]\\xd08\\xe8\\x89\\xb1\\xe5\\xbc\\xe5\\xb1\\x1fd\\xc1\\xf7<\\xbd\\x95\\x81_\\x07\\xc4\\xe4B\\x81\\xaeJ\\xb2Sn!G\\xd7,\\xe2\\x8e\\xc1h\\xfb\\xbf\"\\xa0\\xd0=\\\\{\\x9d\\xa1\\xe2$\\x15\\x80w\\xf59\\xb0\\xd6\\xf2O#\\xac\\xac\\x97J\\x02\\xa9nK\\xfe<\\x96$\\xbc\\xbcQ\\xd4\\x13T\\xaa\\x92\\xce\\x1c\\xee%\\n:\\x81\\xbe\\xd9\\x9f\\xd1e J\\xd2?j2K#\\x84D\\xa4iE\\xe5\\xe3\\xa3\\x1f\\xb2A\\xb7\\xc0\\x88\\x8b\\xba\\xb1q\\xbd\\x03>\\xdcG\\xdb\\xe5X\\xafB(nj\\xfe,\\x83\\xb0\\x86\\xccS6yC*\\xf6\\xa8Sc\\x07X\\x95\\xe8\\x84\\x00K;!\\xe0\\xf7^\\x9c\\x03V\\x04\\x92\\x05\\xa9r\\x1e\\xfe\\xfb%(2\\x1eU\\xe7\\xc4\\x14?Jr\\xb7\\xb5<\\xf3A4\\xf8\\xcd\\x9dt\\xd9\\xd0Zm\\x8b9Y8)\\x83_\\xc1!J\\x9b\\x0e\\x0cW\\xd7\\xb4\\x93\\xde|?\\x9d\\x1f&\\x93\\xa5\\xf8\\xd5\\xed\\xb1\\r8\\'18\\xe1\\xc0\\xff\\t\\xddD^\\xe4.hr\\xaa.\\xe6\\xef\\x85m/$\\x11\\x87\\xd7Sy9\\xad\\xc6<\\x08.\\xf19\\xb7\\xb7r\\xa5\\xec\\x01`\\xfd#\\xfc\\x1f\\x9a\\xde\\xf8\\x83\\xa2\\xa7v\\x9e\\xce\\x8fo\\x01z\\x9e\\t\\x8aF\\xaa2\\xf5XnUu\\xfe\\xe4\\x8f?\\x19\\xcay\\x11oy\\xaa\\xc7\\xd2XW\\xcb\\xef\\xc5\\xcd3}\\x0c\\xb6R\\xbe\\xcd\\xb0\\xe7Ve\\xeez\\xf0\\x1b\\x8cn\\r4t\\x05\\x9b\\xac\\xc6\\x0bw9\\xe5u\\xff\\xe3\\xf4\\x85\\xb8\\x8f\\x02w\\x84\\xfc\\x11V\\xa4M\\xdc\\xdd\\x04\\xf7\\xd1\\x8a\\xd1\\xf7\\x15\\x10t\\x87\\xb0\\x03\\xa30\\xcc\\xb9\\xdc\\xca\\x01v$\\x8d\\x1a\\xc5\\xc9\\xcf\\xb7\\n\\xa9o\\xb4$\\x024t\\x88O\\xcce\\xb2A\\xf4\\x04\\x92\\rT\\xa3V`\\xd4bV\\x18aY\\xd5\\xbeK\\x1b\\x89\\xa7\\x9d\\xaf\\x16_\\xb4\\x1e\\xe2\\xa5\\xa7\\xcc\\xa9\\xe6\\x98\\x8b\\'\\xaa\\xf4c\\xb80\\x87\\xcf\\x13\\x9fC\\x84\\xb4\\x1da\\x19\\x89\\xe0\\x1a\\xc3\\x9e\\xd2\\x1fXY\\xab2\\xc3\\xe70;{\\x0bH\\xc0\\xa7\\xf4\\xcb\\xd7\\x1f! B\\xa3\\xbe\\x8e`\\xf9D\\xde<\\xcc&9\\xf6\\x7f\\xd2m\\xa0\\xd4\\x9c\\xcfO\\x99\\xc8A\\x84\\xf5Ez\\x02y\\xfa`C\\xba\\x0b\\xdb\\xf2\\xfb\\x8e\\xed\\xe5\\xea\\xb1b\\xa0/\\xbe\\xea\\x15\\xa0\\xed\\x92/\\x02\\xb4\\xab\\xff}p\\xed\\x89\\xe3\\xfe\\x9ab\\xfev\\xdc\\xcd\\x0f\\xb1C[\\x9d\\x92\\xc7q\\x9a\\xac\\xe1t\\xec\\x1f\\x8b*\\xeff\\xb5 =D\\x1bg\\xc4\\xb9l\\xf5\\xc5\\xe3\\\\;,`\\x91\\xdeu\\x84\\x95\\xc7Z\\x93\\x8ah[O%i\\xe1\\xb5\\x0fV\\xd4\\xe1\\x8f\\x84\\xeeH\\xb2|\\x926\\x92{\\xc54\\xd7\\xa9\\x83\\x14\\xc2\\xbc\\xc4\\x99*\\x85\\xe3\\x8f\\xf30\\x9c\\xca\\xcd\\x9e\\xcbQQ\\x8e\\xf5\\x85{V\\xb1\\x95\\x00!\\x08\\xbcN\\xf8\\xd36\\x8b\\n\\xf7V\\xde(\\x80\\xd3\\xf1\\x8e\\xcd1\\xbc\\x9bK*\\xa1!JH\\xc8A\\xd4\\x10\\xef\\xcc\\xb9`B^\\xc7/Q\\xaf\\xc3\\xc3\\xfa\\x19\\xd5\\xe0\\xe1\\x8c\\x8d@e\\x18\\x9a2\\xe4\\xe44\\xd1\\xb1\\x18\\x7f\\xb5H\"\\xac\\xd2\\xd4\\xfbU\\x04_\\xe7O\\xaa\\x06\\xb9b\\x87\\xc6\\x85s\\xf5L\\xc0\\xf3\\x1f\\x1f\\xb8\\xa7\\x16\\x98G\\xc6\\xa2K\\xeb\\xf4\\xdd\\xa3\\xd9\\x14.\\n>n\\xb2\\xabLm\\xd5\\xbc\\xca\\xc4\\xb9^\\xb65\\xa5\\xce$l-\\x94\\xc9\\xeap\\xdcgk\\t\\xa2\\x1b\\xba\\x816i\\x0e\\xf9\\xd3|\\x93\\x05k\\x03\\xbd@\\xf6\\xf6v\\xf9\\xc09\\x9ciM\\x8e`\\x15\\x95\\xf1\\x8d)\\xdb\\xa1\\xdc\\x13\\xa3\\xa6\\xb6\\xe0\\xd1\\xd1\\xbb\\xa8\\x1d\\xb4#\\x94\\x01\\xee:\\r%W8LLG\\xc0\\x84\\xba@L\\xa0\\x92\\xf0\\xf1b\\x16\\x95\\x81\\xf2n\\x8c\\xb4\\xe3+\\xceS\\xf3\\xd53'\n"
     ],
     "output_type": "stream"
    }
   ],
   "source": [
    "# Encrypt\n",
    "\n",
    "message = \"hi thanga ! How are you ? your ID is : 3938383 this is confidential\"\n",
    "#import  asymetric algorithm\n",
    "from Crypto.Cipher import AES\n",
    "\n",
    "#Creating Object\n",
    "obj = AES.new(str(userA_shared_key)[0:32])\n",
    "\n",
    "cipher_text = obj.encrypt(message*16)\n",
    "# we are multipying 16 to message bcoz, input string must be a multiple of 16\n",
    "# AES is a block cipher, it works on 16-byte (128-bit) blocks. It can't work with data smaller or bigger than 16 bytes. \n",
    "# Smaller data needs to be padded until they're 16 bytes, and larger data needs to be split into 16-byte blocks.\n",
    "print(\"\\n --------------------------------- \\n\")\n",
    "print(\"Encrypyted Cipher text : \\n\",cipher_text);\n"
   ],
   "metadata": {
    "collapsed": false,
    "pycharm": {
     "name": "#%%\n",
     "is_executing": false
    }
   }
  },
  {
   "cell_type": "code",
   "execution_count": 43,
   "outputs": [
    {
     "name": "stdout",
     "text": [
      "obj2: <Crypto.Cipher.AES.AESCipher object at 0x107222d50>\n",
      "\n",
      "\n",
      "Encrypted CipherText : \n",
      " b'\\xc2\\xcdHjU\\x0e\\xe7\\xd7\\x04\\xb81[\\xab\\x1dO\\xba\\x8b\\xbcB\\xa6\\xb3m\\xee\\xa9\\xaaa\\x86\\xdf\\xff\\x8cDr\\x1fd\\xd6=\\xb7\\xd2N\\'`\\x14>\\x8c\\x8eD)\\x93\\'\\xd2\\x1b\\x00\\xec\\x07f6\\xeb\\x19\\xdaj1\\x06\\x7f\\xc0K\\xcd\\xcd\\xe8\\xfag\\x18\\xad2*\\xb7\\xe32\\x01\\xf3\\xa32\\x85\\xaeY\\x0b\\xfb-\\t,\\xb9g\\xf2o\\xbdK\\xcf\\xf1\\xc2ae4d\\xd5S\\\\\\xe0\\xe4\\xa7:!\\xcd\\xe2M0\\xac\\xe6\\xb4\\xa2\\xe6\\x0c\\x8aw\\xe2`\\x04\\xc6\\xad\\xf1q\\x06gO\\xed\\x89U\\xd3\\xb7}\\xed\\xccs\\xd7\\xc5\\x18\\xb7\\xb54bS\\xea\\xd7\\xc89]1NC\\xc2x\\xec,\\x08\\n\\x86\\xe0\\xee\\xd8\\x9c\\xe8\"\\xb8\\x18\\xaee\\x01\\xe4\\xf7\\xccs>9\\x86\\x86\\xa7\\x88\\x9c6\\x83\\x0b\\xe7\\xef!\\x8c\\x91\\x93\\n\\xd5\\x91+{b\\x19\\x8f\\n\\xa0\\xdf\\xe6;\\xc2=\\xb7~vE\\xa9WiD\\x93[]\\xd08\\xe8\\x89\\xb1\\xe5\\xbc\\xe5\\xb1\\x1fd\\xc1\\xf7<\\xbd\\x95\\x81_\\x07\\xc4\\xe4B\\x81\\xaeJ\\xb2Sn!G\\xd7,\\xe2\\x8e\\xc1h\\xfb\\xbf\"\\xa0\\xd0=\\\\{\\x9d\\xa1\\xe2$\\x15\\x80w\\xf59\\xb0\\xd6\\xf2O#\\xac\\xac\\x97J\\x02\\xa9nK\\xfe<\\x96$\\xbc\\xbcQ\\xd4\\x13T\\xaa\\x92\\xce\\x1c\\xee%\\n:\\x81\\xbe\\xd9\\x9f\\xd1e J\\xd2?j2K#\\x84D\\xa4iE\\xe5\\xe3\\xa3\\x1f\\xb2A\\xb7\\xc0\\x88\\x8b\\xba\\xb1q\\xbd\\x03>\\xdcG\\xdb\\xe5X\\xafB(nj\\xfe,\\x83\\xb0\\x86\\xccS6yC*\\xf6\\xa8Sc\\x07X\\x95\\xe8\\x84\\x00K;!\\xe0\\xf7^\\x9c\\x03V\\x04\\x92\\x05\\xa9r\\x1e\\xfe\\xfb%(2\\x1eU\\xe7\\xc4\\x14?Jr\\xb7\\xb5<\\xf3A4\\xf8\\xcd\\x9dt\\xd9\\xd0Zm\\x8b9Y8)\\x83_\\xc1!J\\x9b\\x0e\\x0cW\\xd7\\xb4\\x93\\xde|?\\x9d\\x1f&\\x93\\xa5\\xf8\\xd5\\xed\\xb1\\r8\\'18\\xe1\\xc0\\xff\\t\\xddD^\\xe4.hr\\xaa.\\xe6\\xef\\x85m/$\\x11\\x87\\xd7Sy9\\xad\\xc6<\\x08.\\xf19\\xb7\\xb7r\\xa5\\xec\\x01`\\xfd#\\xfc\\x1f\\x9a\\xde\\xf8\\x83\\xa2\\xa7v\\x9e\\xce\\x8fo\\x01z\\x9e\\t\\x8aF\\xaa2\\xf5XnUu\\xfe\\xe4\\x8f?\\x19\\xcay\\x11oy\\xaa\\xc7\\xd2XW\\xcb\\xef\\xc5\\xcd3}\\x0c\\xb6R\\xbe\\xcd\\xb0\\xe7Ve\\xeez\\xf0\\x1b\\x8cn\\r4t\\x05\\x9b\\xac\\xc6\\x0bw9\\xe5u\\xff\\xe3\\xf4\\x85\\xb8\\x8f\\x02w\\x84\\xfc\\x11V\\xa4M\\xdc\\xdd\\x04\\xf7\\xd1\\x8a\\xd1\\xf7\\x15\\x10t\\x87\\xb0\\x03\\xa30\\xcc\\xb9\\xdc\\xca\\x01v$\\x8d\\x1a\\xc5\\xc9\\xcf\\xb7\\n\\xa9o\\xb4$\\x024t\\x88O\\xcce\\xb2A\\xf4\\x04\\x92\\rT\\xa3V`\\xd4bV\\x18aY\\xd5\\xbeK\\x1b\\x89\\xa7\\x9d\\xaf\\x16_\\xb4\\x1e\\xe2\\xa5\\xa7\\xcc\\xa9\\xe6\\x98\\x8b\\'\\xaa\\xf4c\\xb80\\x87\\xcf\\x13\\x9fC\\x84\\xb4\\x1da\\x19\\x89\\xe0\\x1a\\xc3\\x9e\\xd2\\x1fXY\\xab2\\xc3\\xe70;{\\x0bH\\xc0\\xa7\\xf4\\xcb\\xd7\\x1f! B\\xa3\\xbe\\x8e`\\xf9D\\xde<\\xcc&9\\xf6\\x7f\\xd2m\\xa0\\xd4\\x9c\\xcfO\\x99\\xc8A\\x84\\xf5Ez\\x02y\\xfa`C\\xba\\x0b\\xdb\\xf2\\xfb\\x8e\\xed\\xe5\\xea\\xb1b\\xa0/\\xbe\\xea\\x15\\xa0\\xed\\x92/\\x02\\xb4\\xab\\xff}p\\xed\\x89\\xe3\\xfe\\x9ab\\xfev\\xdc\\xcd\\x0f\\xb1C[\\x9d\\x92\\xc7q\\x9a\\xac\\xe1t\\xec\\x1f\\x8b*\\xeff\\xb5 =D\\x1bg\\xc4\\xb9l\\xf5\\xc5\\xe3\\\\;,`\\x91\\xdeu\\x84\\x95\\xc7Z\\x93\\x8ah[O%i\\xe1\\xb5\\x0fV\\xd4\\xe1\\x8f\\x84\\xeeH\\xb2|\\x926\\x92{\\xc54\\xd7\\xa9\\x83\\x14\\xc2\\xbc\\xc4\\x99*\\x85\\xe3\\x8f\\xf30\\x9c\\xca\\xcd\\x9e\\xcbQQ\\x8e\\xf5\\x85{V\\xb1\\x95\\x00!\\x08\\xbcN\\xf8\\xd36\\x8b\\n\\xf7V\\xde(\\x80\\xd3\\xf1\\x8e\\xcd1\\xbc\\x9bK*\\xa1!JH\\xc8A\\xd4\\x10\\xef\\xcc\\xb9`B^\\xc7/Q\\xaf\\xc3\\xc3\\xfa\\x19\\xd5\\xe0\\xe1\\x8c\\x8d@e\\x18\\x9a2\\xe4\\xe44\\xd1\\xb1\\x18\\x7f\\xb5H\"\\xac\\xd2\\xd4\\xfbU\\x04_\\xe7O\\xaa\\x06\\xb9b\\x87\\xc6\\x85s\\xf5L\\xc0\\xf3\\x1f\\x1f\\xb8\\xa7\\x16\\x98G\\xc6\\xa2K\\xeb\\xf4\\xdd\\xa3\\xd9\\x14.\\n>n\\xb2\\xabLm\\xd5\\xbc\\xca\\xc4\\xb9^\\xb65\\xa5\\xce$l-\\x94\\xc9\\xeap\\xdcgk\\t\\xa2\\x1b\\xba\\x816i\\x0e\\xf9\\xd3|\\x93\\x05k\\x03\\xbd@\\xf6\\xf6v\\xf9\\xc09\\x9ciM\\x8e`\\x15\\x95\\xf1\\x8d)\\xdb\\xa1\\xdc\\x13\\xa3\\xa6\\xb6\\xe0\\xd1\\xd1\\xbb\\xa8\\x1d\\xb4#\\x94\\x01\\xee:\\r%W8LLG\\xc0\\x84\\xba@L\\xa0\\x92\\xf0\\xf1b\\x16\\x95\\x81\\xf2n\\x8c\\xb4\\xe3+\\xceS\\xf3\\xd53'\n",
      "Decrypted plain text : \n",
      "  b'hi thanga ! How are you ? your ID is : 3938383 this is confidentialhi thanga ! How are you ? your ID is : 3938383 this is confidentialhi thanga ! How are you ? your ID is : 3938383 this is confidentialhi thanga ! How are you ? your ID is : 3938383 this is confidentialhi thanga ! How are you ? your ID is : 3938383 this is confidentialhi thanga ! How are you ? your ID is : 3938383 this is confidentialhi thanga ! How are you ? your ID is : 3938383 this is confidentialhi thanga ! How are you ? your ID is : 3938383 this is confidentialhi thanga ! How are you ? your ID is : 3938383 this is confidentialhi thanga ! How are you ? your ID is : 3938383 this is confidentialhi thanga ! How are you ? your ID is : 3938383 this is confidentialhi thanga ! How are you ? your ID is : 3938383 this is confidentialhi thanga ! How are you ? your ID is : 3938383 this is confidentialhi thanga ! How are you ? your ID is : 3938383 this is confidentialhi thanga ! How are you ? your ID is : 3938383 this is confidentialhi thanga ! How are you ? your ID is : 3938383 this is confidential'\n"
     ],
     "output_type": "stream"
    }
   ],
   "source": [
    "# Decrypt\n",
    "obj2 = AES.new(str(userB_shared_key)[0:32])\n",
    "\n",
    "print(\"obj2:\",obj2)\n",
    "restored_plain_text = obj2.decrypt(cipher_text)\n",
    "print(\"\\n\")\n",
    "print(\"Encrypted CipherText : \\n\",cipher_text)\n",
    "print(\"Decrypted plain text : \\n \",restored_plain_text)\n"
   ],
   "metadata": {
    "collapsed": false,
    "pycharm": {
     "name": "#%%\n",
     "is_executing": false
    }
   }
  }
 ],
 "metadata": {
  "kernelspec": {
   "display_name": "Python 3",
   "language": "python",
   "name": "python3"
  },
  "language_info": {
   "codemirror_mode": {
    "name": "ipython",
    "version": 2
   },
   "file_extension": ".py",
   "mimetype": "text/x-python",
   "name": "python",
   "nbconvert_exporter": "python",
   "pygments_lexer": "ipython2",
   "version": "2.7.6"
  },
  "pycharm": {
   "stem_cell": {
    "cell_type": "raw",
    "source": [],
    "metadata": {
     "collapsed": false
    }
   }
  }
 },
 "nbformat": 4,
 "nbformat_minor": 0
}